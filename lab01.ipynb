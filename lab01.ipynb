{
 "cells": [
  {
   "cell_type": "markdown",
   "metadata": {},
   "source": [
    "# Set Cover problem"
   ]
  },
  {
   "cell_type": "code",
   "execution_count": 199,
   "metadata": {},
   "outputs": [],
   "source": [
    "from itertools import accumulate\n",
    "import numpy as np\n",
    "from tqdm.auto import tqdm\n",
    "from matplotlib import pyplot as plt\n",
    "\n",
    "from icecream import ic\n",
    "\n",
    "UNIVERSE_SIZE = 100_000\n",
    "NUM_SETS = 10_000\n",
    "DENSITY = 0.3\n",
    "\n",
    "rng = np.random.Generator(np.random.PCG64([UNIVERSE_SIZE, NUM_SETS, int(10_000 * DENSITY)]))\n",
    "\n",
    "# DON'T EDIT THESE LINES!\n",
    "\n",
    "SETS = np.random.random((NUM_SETS, UNIVERSE_SIZE)) < DENSITY\n",
    "for s in range(UNIVERSE_SIZE):\n",
    "    if not np.any(SETS[:, s]):\n",
    "        SETS[np.random.randint(NUM_SETS), s] = True\n",
    "COSTS = np.pow(SETS.sum(axis=1), 1.1)\n",
    "\n",
    "def valid(solution):\n",
    "    \"\"\"Checks wether solution is valid (ie. covers all universe)\"\"\"\n",
    "    return np.all(np.logical_or.reduce(SETS[solution]))\n",
    "\n",
    "\n",
    "def cost(solution):\n",
    "    \"\"\"Returns the cost of a solution (to be minimized)\"\"\"\n",
    "    return COSTS[solution].sum()"
   ]
  },
  {
   "cell_type": "markdown",
   "metadata": {},
   "source": [
    "## Fitness function"
   ]
  },
  {
   "cell_type": "code",
   "execution_count": 200,
   "metadata": {},
   "outputs": [],
   "source": [
    "def fitness(solution):\n",
    "    return (valid(solution), -cost(solution))"
   ]
  },
  {
   "cell_type": "markdown",
   "metadata": {},
   "source": [
    "# Multiple Mutation Hill Climber"
   ]
  },
  {
   "cell_type": "code",
   "execution_count": 201,
   "metadata": {},
   "outputs": [],
   "source": [
    "def tweak(solution):\n",
    "    new_solution = solution.copy()\n",
    "    index = None\n",
    "    while index is None or np.random.random() < 0.5:\n",
    "        index = np.random.randint(0, NUM_SETS)\n",
    "        new_solution[index] = not new_solution[index]\n",
    "    return new_solution"
   ]
  },
  {
   "cell_type": "code",
   "execution_count": 202,
   "metadata": {},
   "outputs": [],
   "source": [
    "def hill_climber():\n",
    "    solution = rng.random(NUM_SETS) < 1\n",
    "    ic(valid(solution), cost(solution))\n",
    "    solution_fitness = fitness(solution)\n",
    "    history = [solution_fitness[1]]\n",
    "\n",
    "\n",
    "    for steps in range(10_000):\n",
    "        # TWEAK\n",
    "        temp = tweak(solution)\n",
    "        f = fitness(temp)\n",
    "        history.append(f[1])\n",
    "\n",
    "        if f > solution_fitness:\n",
    "            solution = temp\n",
    "            solution_fitness = f\n",
    "    ic(valid(solution), cost(solution))\n",
    "    return solution, history\n",
    "None"
   ]
  },
  {
   "cell_type": "markdown",
   "metadata": {},
   "source": [
    "# Improved Multiple Mutation Hill Climber"
   ]
  },
  {
   "cell_type": "code",
   "execution_count": 203,
   "metadata": {},
   "outputs": [],
   "source": [
    "def tweak_strength(solution: np.ndarray, strength: float = 0.3) -> np.ndarray:\n",
    "    mask = rng.random(NUM_SETS) < strength\n",
    "    if not np.any(mask):\n",
    "        mask[np.random.randint(NUM_SETS)] = True\n",
    "    new_solution = np.logical_xor(solution, mask)\n",
    "    return new_solution"
   ]
  },
  {
   "cell_type": "code",
   "execution_count": 204,
   "metadata": {},
   "outputs": [],
   "source": [
    "def improved_hill_climber():\n",
    "    solution = rng.random(NUM_SETS) < 0.3\n",
    "    BUFFER_SIZE = 13\n",
    "    solution_fitness = fitness(solution)\n",
    "    history = [float(solution_fitness[1])]\n",
    "    ic(valid(solution), cost(solution))\n",
    "\n",
    "    strength = 0.5\n",
    "    buffer = list()\n",
    "\n",
    "    for steps in range(10_000):\n",
    "        new_solution = tweak_strength(solution, strength)\n",
    "        f = fitness(new_solution)\n",
    "        history.append(float(f[1]))\n",
    "        buffer.append(f > solution_fitness)\n",
    "\n",
    "        buffer = buffer[-BUFFER_SIZE:]\n",
    "        if sum(buffer) > BUFFER_SIZE / 2:\n",
    "            strength *= 1.2\n",
    "        elif sum(buffer) < BUFFER_SIZE / 2:\n",
    "            strength /= 1.2\n",
    "\n",
    "        if (f > solution_fitness):\n",
    "            solution = new_solution\n",
    "            solution_fitness = fitness(solution)\n",
    "\n",
    "    ic(valid(solution), cost(solution))\n",
    "    return solution, history\n",
    "None"
   ]
  },
  {
   "cell_type": "markdown",
   "metadata": {},
   "source": [
    "#  Simulated Annealing"
   ]
  },
  {
   "cell_type": "code",
   "execution_count": 205,
   "metadata": {},
   "outputs": [],
   "source": [
    "def tweak_simuled_annealing(solution):\n",
    "    new_solution = solution.copy()\n",
    "    index = np.random.randint(0, NUM_SETS)\n",
    "    new_solution[index] = not new_solution[index]\n",
    "    return new_solution"
   ]
  },
  {
   "cell_type": "code",
   "execution_count": 206,
   "metadata": {},
   "outputs": [],
   "source": [
    "def simulated_annealing():\n",
    "    current_solution = rng.random(NUM_SETS) < 0.3\n",
    "    current_fitness = fitness(current_solution)\n",
    "    best_solution = current_solution.copy()\n",
    "    best_fitness = current_fitness\n",
    "    ic(valid(current_solution), cost(current_solution))\n",
    "\n",
    "\n",
    "    temperature = 1000\n",
    "    cooling_rate=0.995\n",
    "    min_temp=1e-3\n",
    "    steps_without_improvement = 0\n",
    "    history = [float(current_fitness[1])]\n",
    "\n",
    "    for step in range(10_000):\n",
    "        new_solution = tweak_simuled_annealing(current_solution)\n",
    "        new_fitness = fitness(new_solution)\n",
    "        history.append(float(new_fitness[1]))\n",
    "        \n",
    "        # Always accept if new solution is better\n",
    "        if new_fitness > current_fitness:\n",
    "            current_solution = new_solution\n",
    "            current_fitness = new_fitness\n",
    "            steps_without_improvement = 0\n",
    "        else:\n",
    "            # Probabilistically accept worse solutions (exploration)\n",
    "            delta_cost = new_fitness[1] - current_fitness[1]\n",
    "            log_acceptance_prob = delta_cost / temperature\n",
    "            acceptance_prob = np.exp(log_acceptance_prob) if log_acceptance_prob < 0 else 1.0\n",
    "            if np.random.random() < acceptance_prob:\n",
    "                current_solution = new_solution\n",
    "                current_fitness = new_fitness\n",
    "            steps_without_improvement += 1\n",
    "\n",
    "        # Update the best solution found\n",
    "        if current_fitness > best_fitness:\n",
    "            best_solution = current_solution.copy()\n",
    "            best_fitness = current_fitness\n",
    "        \n",
    "        # Reduce temperature\n",
    "        temperature = max(temperature * cooling_rate, min_temp)\n",
    "\n",
    "\n",
    "    ic(valid(best_solution), cost(best_solution))\n",
    "    return best_solution, history\n",
    "None"
   ]
  },
  {
   "cell_type": "markdown",
   "metadata": {},
   "source": [
    "# Choose the algorithm"
   ]
  },
  {
   "cell_type": "code",
   "execution_count": 211,
   "metadata": {},
   "outputs": [
    {
     "name": "stderr",
     "output_type": "stream",
     "text": [
      "ic| valid(current_solution): np.True_\n",
      "    cost(current_solution): np.float64(256958289.00127825)\n",
      "ic| valid(best_solution): np.True_\n",
      "    cost(best_solution): np.float64(94205112.08905461)\n"
     ]
    }
   ],
   "source": [
    "def choose_algorithm():\n",
    "    if UNIVERSE_SIZE <= 1000 and DENSITY <= 0.2:\n",
    "        return hill_climber\n",
    "    elif UNIVERSE_SIZE > 1000 and DENSITY >= 0.2:\n",
    "        return simulated_annealing\n",
    "    else:\n",
    "        return improved_hill_climber\n",
    "    \n",
    "algorithm = choose_algorithm()\n",
    "solution, history = algorithm()"
   ]
  },
  {
   "cell_type": "code",
   "execution_count": 212,
   "metadata": {},
   "outputs": [
    {
     "data": {
      "image/png": "[encoded data removed]",
      "text/plain": [
       "<Figure size 1400x800 with 1 Axes>"
      ]
     },
     "metadata": {},
     "output_type": "display_data"
    }
   ],
   "source": [
    "plt.figure(figsize=(14, 8))\n",
    "plt.plot(\n",
    "    range(len(history)),\n",
    "    list(accumulate(history, max)),\n",
    "    color=\"red\",\n",
    ")\n",
    "_ = plt.scatter(range(len(history)), history, marker=\".\")"
   ]
  },
  {
   "cell_type": "markdown",
   "metadata": {},
   "source": [
    "254\n",
    "94\n",
    "4 minutes"
   ]
  }
 ],
 "metadata": {
  "kernelspec": {
   "display_name": "ci-fYJkA6Wx-py3.12",
   "language": "python",
   "name": "python3"
  },
  "language_info": {
   "codemirror_mode": {
    "name": "ipython",
    "version": 3
   },
   "file_extension": ".py",
   "mimetype": "text/x-python",
   "name": "python",
   "nbconvert_exporter": "python",
   "pygments_lexer": "ipython3",
   "version": "3.12.6"
  }
 },
 "nbformat": 4,
 "nbformat_minor": 2
}
