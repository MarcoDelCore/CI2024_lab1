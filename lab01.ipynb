{
 "cells": [
  {
   "cell_type": "markdown",
   "metadata": {},
   "source": [
    "# Set Cover problem"
   ]
  },
  {
   "cell_type": "code",
   "execution_count": null,
   "metadata": {},
   "outputs": [
    {
     "ename": "",
     "evalue": "",
     "output_type": "error",
     "traceback": [
      "\u001b[1;31mRunning cells with 'ci-fYJkA6Wx-py3.12 (Python 3.12.6)' requires the ipykernel package.\n",
      "\u001b[1;31mRun the following command to install 'ipykernel' into the Python environment. \n",
      "\u001b[1;31mCommand: '/Users/Marco/Library/Caches/pypoetry/virtualenvs/ci-fYJkA6Wx-py3.12/bin/python -m pip install ipykernel -U --force-reinstall'"
     ]
    }
   ],
   "source": [
    "from random import random, seed\n",
    "from itertools import product\n",
    "import numpy as np\n",
    "from tqdm.auto import tqdm\n",
    "\n",
    "from icecream import ic\n",
    "\n",
    "UNIVERSE_SIZE = 100_000\n",
    "NUM_SETS = 10_000\n",
    "DENSITY = 0.3\n",
    "\n",
    "rng = np.random.Generator(np.random.PCG64([UNIVERSE_SIZE, NUM_SETS, int(10_000 * DENSITY)]))\n",
    "\n",
    "# DON'T EDIT THESE LINES!\n",
    "\n",
    "SETS = np.random.random((NUM_SETS, UNIVERSE_SIZE)) < DENSITY\n",
    "for s in range(UNIVERSE_SIZE):\n",
    "    if not np.any(SETS[:, s]):\n",
    "        SETS[np.random.randint(NUM_SETS), s] = True\n",
    "COSTS = np.pow(SETS.sum(axis=1), 1.1)\n",
    "\n",
    "def valid(solution):\n",
    "    \"\"\"Checks wether solution is valid (ie. covers all universe)\"\"\"\n",
    "    return np.all(np.logical_or.reduce(SETS[solution]))\n",
    "\n",
    "\n",
    "def cost(solution):\n",
    "    \"\"\"Returns the cost of a solution (to be minimized)\"\"\"\n",
    "    return COSTS[solution].sum()"
   ]
  },
  {
   "cell_type": "markdown",
   "metadata": {},
   "source": [
    "## My solution"
   ]
  },
  {
   "cell_type": "code",
   "execution_count": null,
   "metadata": {},
   "outputs": [],
   "source": [
    "def greedy_solution():\n",
    "    \"\"\"Genera una soluzione iniziale con un approccio greedy\"\"\"\n",
    "    uncovered = np.ones(UNIVERSE_SIZE, dtype=bool)\n",
    "    solution = np.zeros(NUM_SETS, dtype=bool)\n",
    "    while np.any(uncovered):\n",
    "        best_set = -1\n",
    "        best_cost_benefit = float('inf')\n",
    "        \n",
    "        # Trova il miglior set che copre il maggior numero di elementi scoperti\n",
    "        for i in range(NUM_SETS):\n",
    "            if not solution[i]:  # Considera solo set non inclusi\n",
    "                coverage = np.logical_and(SETS[i], uncovered).sum()\n",
    "                if coverage > 0:\n",
    "                    cost_benefit = COSTS[i] / coverage\n",
    "                    if cost_benefit < best_cost_benefit:\n",
    "                        best_set = i\n",
    "                        best_cost_benefit = cost_benefit\n",
    "        \n",
    "        # Aggiungi il miglior set trovato alla soluzione\n",
    "        solution[best_set] = True\n",
    "        uncovered = np.logical_and(uncovered, np.logical_not(SETS[best_set]))\n",
    "    \n",
    "    return solution\n",
    "\n",
    "# Miglioramento tramite tweak\n",
    "def hill_climb(initial_solution):\n",
    "    for n in tqdm(range(5_000)):  # Ridurre il numero di valutazioni\n",
    "        temp = tweak(initial_solution)\n",
    "        if valid(temp) and cost(temp) < cost(initial_solution):\n",
    "            initial_solution = temp\n",
    "    return initial_solution\n",
    "\n",
    "# Soluzione iniziale con metodo greedy\n",
    "initial_solution = greedy_solution()\n",
    "ic(valid(initial_solution), cost(initial_solution))\n"
   ]
  }
 ],
 "metadata": {
  "kernelspec": {
   "display_name": "ci-fYJkA6Wx-py3.12",
   "language": "python",
   "name": "python3"
  },
  "language_info": {
   "name": "python",
   "version": "3.12.6"
  }
 },
 "nbformat": 4,
 "nbformat_minor": 2
}
